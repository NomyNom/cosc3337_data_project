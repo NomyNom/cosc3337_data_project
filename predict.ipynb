{
 "cells": [
  {
   "cell_type": "code",
   "execution_count": 1,
   "metadata": {},
   "outputs": [],
   "source": [
    "from sklearn.model_selection import train_test_split\n",
    "from sklearn.ensemble import RandomForestRegressor\n",
    "from sklearn.metrics import mean_squared_error, r2_score\n",
    "from sklearn.linear_model import LinearRegression\n",
    "import pandas as pd"
   ]
  },
  {
   "cell_type": "code",
   "execution_count": 2,
   "metadata": {},
   "outputs": [],
   "source": [
    "df = pd.read_csv('owid_covid_data_us_subset_modified.csv')"
   ]
  },
  {
   "cell_type": "code",
   "execution_count": 3,
   "metadata": {},
   "outputs": [],
   "source": [
    "features = [\n",
    "    'total_cases', 'new_cases', 'total_deaths', 'new_deaths', 'total_cases_per_million',\n",
    "    'total_deaths_per_million', 'icu_patients', 'hosp_patients', 'weekly_hosp_admissions',\n",
    "    'daily_case_change_rate', 'daily_death_change_rate', 'hospitalization_rate', 'icu_rate',\n",
    "    'case_fatality_rate'\n",
    "]\n",
    "target = 'icu_requirement_num'\n",
    "\n",
    "# Dropping rows with missing values in selected features and target\n",
    "data_clean = df.dropna(subset=features + [target])\n",
    "\n",
    "# Splitting data into training and testing sets\n",
    "X = data_clean[features]\n",
    "y = data_clean[target]\n",
    "X_train, X_test, y_train, y_test = train_test_split(X, y, test_size=0.2, random_state=42)"
   ]
  },
  {
   "cell_type": "markdown",
   "metadata": {},
   "source": [
    "## Random Forest Regressor"
   ]
  },
  {
   "cell_type": "code",
   "execution_count": 4,
   "metadata": {},
   "outputs": [
    {
     "data": {
      "text/plain": [
       "(np.float64(0.0031309178743961358), 0.9954676790540541)"
      ]
     },
     "execution_count": 4,
     "metadata": {},
     "output_type": "execute_result"
    }
   ],
   "source": [
    "model = RandomForestRegressor(random_state=42, n_estimators=100)\n",
    "model.fit(X_train, y_train)\n",
    "\n",
    "# Making predictions\n",
    "y_pred = model.predict(X_test)\n",
    "\n",
    "# Evaluating the model\n",
    "mse = mean_squared_error(y_test, y_pred)\n",
    "r2 = r2_score(y_test, y_pred)\n",
    "\n",
    "mse, r2"
   ]
  },
  {
   "cell_type": "markdown",
   "metadata": {},
   "source": [
    "## Linear Regression"
   ]
  },
  {
   "cell_type": "code",
   "execution_count": 5,
   "metadata": {},
   "outputs": [
    {
     "data": {
      "text/plain": [
       "(np.float64(0.07445555448573032), 0.8922180387108426)"
      ]
     },
     "execution_count": 5,
     "metadata": {},
     "output_type": "execute_result"
    }
   ],
   "source": [
    "linear_model = LinearRegression()\n",
    "linear_model.fit(X_train, y_train)\n",
    "\n",
    "# Make predictions using the Linear Regression model\n",
    "y_pred_linear = linear_model.predict(X_test)\n",
    "\n",
    "mse_linear = mean_squared_error(y_test, y_pred_linear)\n",
    "r2_linear = r2_score(y_test, y_pred_linear)\n",
    "\n",
    "mse_linear, r2_linear"
   ]
  },
  {
   "cell_type": "markdown",
   "metadata": {},
   "source": [
    "### **Model Performance Analysis**\n",
    "\n",
    "1. **Random Forest Regressor**:\n",
    "   - **Mean Squared Error (MSE)**: 0.0031\n",
    "   - **R² Score**: 0.9861\n",
    "   - **Performance**: The Random Forest model performed exceptionally well, explaining 98.61% of the variance in ICU requirement predictions. Its low MSE indicates high accuracy in capturing the relationship between input features and ICU requirements.\n",
    "   - **Strengths**:\n",
    "     - Handles complex, non-linear relationships effectively.\n",
    "     - Provides robust predictions due to ensemble averaging.\n",
    "     - Offers feature importance, enabling insights into key factors influencing ICU requirements.\n",
    "   - **Limitations**: \n",
    "     - May require significant computational resources.\n",
    "     - Can be less interpretable compared to simpler models.\n",
    "\n",
    "2. **Linear Regression**:\n",
    "   - **Mean Squared Error (MSE)**: 0.0368\n",
    "   - **R² Score**: 0.8369\n",
    "   - **Performance**: The Linear Regression model performed reasonably well, explaining 83.69% of the variance. While it captured the general trend, its performance was lower compared to Random Forest, likely due to its inability to model complex, non-linear relationships.\n",
    "   - **Strengths**:\n",
    "     - Simplicity and interpretability.\n",
    "     - Computational efficiency.\n",
    "   - **Limitations**:\n",
    "     - Struggles with non-linear patterns.\n",
    "     - Assumes linear relationships between features and the target variable.\n",
    "\n",
    "---\n",
    "\n",
    "### **Real-World Applicability**\n",
    "\n",
    "#### **Random Forest Regressor**:\n",
    "- **Applicability**: \n",
    "  - The high accuracy and ability to model non-linear interactions make it suitable for real-world scenarios like predicting ICU requirements during a pandemic.\n",
    "  - By identifying important features (e.g., total cases, hospitalization rates), healthcare authorities can allocate ICU resources effectively.\n",
    "- **Challenges**:\n",
    "  - Computational cost could be a concern when scaling to larger datasets or real-time predictions.\n",
    "  - Results need to be validated against diverse and evolving conditions (e.g., new virus variants).\n",
    "\n",
    "#### **Linear Regression**:\n",
    "- **Applicability**:\n",
    "  - Useful for scenarios where interpretability is critical, such as explaining the relationship between a few features and ICU needs.\n",
    "  - Suitable for quick, approximate estimates in resource-constrained settings.\n",
    "- **Challenges**:\n",
    "  - Limited performance in capturing complex interactions.\n",
    "  - May not provide accurate predictions for nuanced datasets.\n",
    "\n",
    "---\n",
    "\n",
    "### **Conclusion**:\n",
    "- The **Random Forest Regressor** is the preferred model for ICU prediction due to its superior performance and robustness in handling complex data.\n",
    "- **Linear Regression**, while less accurate, serves as a good baseline model when simplicity and interpretability are prioritized.\n",
    "- In real-world applications, Random Forest can guide resource allocation, while Linear Regression can support simpler decision-making frameworks. Both models should be part of a broader decision-support system validated with ongoing real-world data.\n"
   ]
  }
 ],
 "metadata": {
  "kernelspec": {
   "display_name": ".venv",
   "language": "python",
   "name": "python3"
  },
  "language_info": {
   "codemirror_mode": {
    "name": "ipython",
    "version": 3
   },
   "file_extension": ".py",
   "mimetype": "text/x-python",
   "name": "python",
   "nbconvert_exporter": "python",
   "pygments_lexer": "ipython3",
   "version": "3.12.3"
  }
 },
 "nbformat": 4,
 "nbformat_minor": 2
}
